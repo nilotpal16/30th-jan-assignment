{
 "cells": [
  {
   "cell_type": "code",
   "execution_count": 1,
   "id": "c5349a5d-27e0-4b45-8f68-8ffbf44d120e",
   "metadata": {},
   "outputs": [
    {
     "name": "stdin",
     "output_type": "stream",
     "text": [
      "enter the marks 85\n"
     ]
    },
    {
     "name": "stdout",
     "output_type": "stream",
     "text": [
      "grade B\n"
     ]
    }
   ],
   "source": [
    "marks = int(input('enter the marks'))\n",
    "if marks >=90:\n",
    "    print( 'grade A')\n",
    "elif marks >=80 and marks <90:\n",
    "    print ('grade B')\n",
    "elif marks >=60 and marks <80:\n",
    "    print('grade C')\n",
    "else:\n",
    "    print('grade D')"
   ]
  },
  {
   "cell_type": "code",
   "execution_count": 4,
   "id": "d4d2908b-0dd4-4c02-b505-ca4d90eca369",
   "metadata": {},
   "outputs": [
    {
     "name": "stdin",
     "output_type": "stream",
     "text": [
      "cp of bike 25000\n"
     ]
    },
    {
     "name": "stdout",
     "output_type": "stream",
     "text": [
      "tax 5%\n"
     ]
    }
   ],
   "source": [
    "costprice = int(input('cp of bike'))\n",
    "if costprice >= 100000:\n",
    "    print('tax 15%')\n",
    "elif costprice >= 50000 and costprice <100000:\n",
    "    print('tax 10%')\n",
    "else:\n",
    "    print ('tax 5%')\n",
    "        "
   ]
  },
  {
   "cell_type": "code",
   "execution_count": 13,
   "id": "50dd6339-04a1-4e95-97f3-6143ffe6b96d",
   "metadata": {},
   "outputs": [
    {
     "name": "stdin",
     "output_type": "stream",
     "text": [
      "enter the city delhi\n"
     ]
    },
    {
     "name": "stdout",
     "output_type": "stream",
     "text": [
      "redfort\n"
     ]
    }
   ],
   "source": [
    "city = str(input('enter the city'))\n",
    "if city == 'delhi':\n",
    "    print( 'redfort')\n",
    "elif city == 'agra':\n",
    "    print('tajmahal')\n",
    "elif city == 'jaipur':\n",
    "    print ('jalmahal')"
   ]
  },
  {
   "cell_type": "code",
   "execution_count": 1,
   "id": "1b34763d-785b-4e91-92f2-98c69f3a0b74",
   "metadata": {},
   "outputs": [],
   "source": [
    "## reverse a while loop"
   ]
  },
  {
   "cell_type": "code",
   "execution_count": 2,
   "id": "e819fca9-d80e-4987-80f8-3dbaee11d433",
   "metadata": {},
   "outputs": [],
   "source": [
    "l = [1,2,3,4,5,6,7,8,9,10]"
   ]
  },
  {
   "cell_type": "code",
   "execution_count": 6,
   "id": "bcf927b5-f3b6-4bfe-80ce-9786d485fdd1",
   "metadata": {},
   "outputs": [
    {
     "name": "stdout",
     "output_type": "stream",
     "text": [
      "10\n",
      "9\n",
      "8\n",
      "7\n",
      "6\n",
      "5\n",
      "4\n",
      "3\n",
      "2\n"
     ]
    }
   ],
   "source": [
    "l1=[]\n",
    "for i in range(len(l)-1,0,-1):\n",
    "    print(l[i])"
   ]
  },
  {
   "cell_type": "code",
   "execution_count": 7,
   "id": "f10311db-3cd3-4865-802f-52a692ca0fa3",
   "metadata": {},
   "outputs": [],
   "source": [
    "##nested pattern"
   ]
  },
  {
   "cell_type": "code",
   "execution_count": 10,
   "id": "0dee0483-81a1-4b9c-9402-17fe15b6e081",
   "metadata": {},
   "outputs": [
    {
     "name": "stdout",
     "output_type": "stream",
     "text": [
      "*\n",
      "**\n",
      "***\n",
      "****\n",
      "*****\n"
     ]
    }
   ],
   "source": [
    "n=5\n",
    "for i in range (1,n+1):\n",
    "    for j in range(1,i+1):\n",
    "        print('*',end='')\n",
    "    print('')\n",
    "    "
   ]
  },
  {
   "cell_type": "code",
   "execution_count": 11,
   "id": "2c09840e-217a-442f-9254-f8528fe4ec53",
   "metadata": {},
   "outputs": [],
   "source": [
    "##  how many numbers are divided by 3 and number less than equal to 10"
   ]
  },
  {
   "cell_type": "code",
   "execution_count": 12,
   "id": "58a56685-7b47-478b-a61c-8d5d57566a86",
   "metadata": {},
   "outputs": [],
   "source": [
    "def count_division(n):\n",
    "    count=0\n",
    "    while n<=10:\n",
    "        n=n/3\n",
    "        count+=1\n",
    "        \n",
    "    "
   ]
  },
  {
   "cell_type": "code",
   "execution_count": null,
   "id": "749181dc-ad89-4943-a47f-1a238e572eb2",
   "metadata": {},
   "outputs": [],
   "source": [
    "count_division(3)"
   ]
  },
  {
   "cell_type": "code",
   "execution_count": null,
   "id": "b6ef6f10-c70b-484e-82f8-c9531a0d1c45",
   "metadata": {},
   "outputs": [],
   "source": []
  }
 ],
 "metadata": {
  "kernelspec": {
   "display_name": "Python 3 (ipykernel)",
   "language": "python",
   "name": "python3"
  },
  "language_info": {
   "codemirror_mode": {
    "name": "ipython",
    "version": 3
   },
   "file_extension": ".py",
   "mimetype": "text/x-python",
   "name": "python",
   "nbconvert_exporter": "python",
   "pygments_lexer": "ipython3",
   "version": "3.10.8"
  }
 },
 "nbformat": 4,
 "nbformat_minor": 5
}
